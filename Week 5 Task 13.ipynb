{
  "cells": [
    {
      "cell_type": "markdown",
      "metadata": {
        "id": "6WdKdPGx-tnY"
      },
      "source": [
        "**Note: In Data Science googling is a very important skill. If you find some difficulties to solve the problem, google it and try to find some clues to solve.**"
      ]
    },
    {
      "cell_type": "code",
      "execution_count": 1,
      "metadata": {
        "id": "-J4F1ysN4mLk"
      },
      "outputs": [],
      "source": [
        "import numpy as np"
      ]
    },
    {
      "cell_type": "markdown",
      "metadata": {
        "id": "a_K8IH-C6HDK"
      },
      "source": [
        "###`Q-1` Create a null vector of size 10 but the fifth value which is 1.\n",
        "\n"
      ]
    },
    {
      "cell_type": "code",
      "execution_count": 12,
      "metadata": {
        "id": "sTF03KsZ6QUI"
      },
      "outputs": [
        {
          "name": "stdout",
          "output_type": "stream",
          "text": [
            "[nan nan nan nan  1. nan nan nan nan nan]\n"
          ]
        }
      ],
      "source": [
        "#Code here\n",
        "\n",
        "a = np.nan + np.empty(10)\n",
        "a[4] = 1\n",
        "print(a)"
      ]
    },
    {
      "cell_type": "markdown",
      "metadata": {
        "id": "TEiG25rS6S1i"
      },
      "source": [
        "###`Q-2` Ask user to input two numbers a, b. Write a program to generate a random array of shape (a, b) and print the array and avg of the array."
      ]
    },
    {
      "cell_type": "code",
      "execution_count": 15,
      "metadata": {
        "id": "ihwn4oOH6Vh7"
      },
      "outputs": [
        {
          "name": "stdout",
          "output_type": "stream",
          "text": [
            "[[0.77390885 0.04179363 0.45152914]\n",
            " [0.42826998 0.70272988 0.91737111]]\n",
            "0.5526004300331252\n"
          ]
        }
      ],
      "source": [
        "#Code here\n",
        "\n",
        "a, b = map(int,input(\"Enter Two Numbers: \").split())\n",
        "x = np.random.random((a,b))\n",
        "print(x)\n",
        "print(x.mean())"
      ]
    },
    {
      "cell_type": "markdown",
      "metadata": {
        "id": "2iEeybS06ZSq"
      },
      "source": [
        "###`Q-3`Write a function to create a 2d array with 1 on the border and 0 inside. Take 2-D array shape as (a,b) as parameter to function.\n",
        "\n",
        "Eg.-\n",
        "```\n",
        "[[1,1,1,1],\n",
        "[1,0,0,1],\n",
        "[1,0,0,1],\n",
        "[1,1,1,1]]\n",
        "```"
      ]
    },
    {
      "cell_type": "code",
      "execution_count": 21,
      "metadata": {
        "id": "gEKndkDU6ZSs"
      },
      "outputs": [
        {
          "name": "stdout",
          "output_type": "stream",
          "text": [
            "[[1. 1. 1. 1.]\n",
            " [1. 0. 0. 1.]\n",
            " [1. 0. 0. 1.]\n",
            " [1. 1. 1. 1.]]\n"
          ]
        }
      ],
      "source": [
        "#Code here\n",
        "\n",
        "def borderArray(a,b):\n",
        "    \n",
        "    x =  np.ones((a,b))\n",
        "    x[1:3,1:3] = 0\n",
        "    print(x)\n",
        "    \n",
        "borderArray(4,4)"
      ]
    },
    {
      "cell_type": "markdown",
      "metadata": {
        "id": "QRJicQ8j6ZlE"
      },
      "source": [
        "###`Q-4` Create a vector of size 10 with values ranging from 0 to 1, both excluded.\n"
      ]
    },
    {
      "cell_type": "code",
      "execution_count": 22,
      "metadata": {
        "id": "eC4XLhDq6ZlF"
      },
      "outputs": [
        {
          "data": {
            "text/plain": [
              "array([0.09090909, 0.18181818, 0.27272727, 0.36363636, 0.45454545,\n",
              "       0.54545455, 0.63636364, 0.72727273, 0.81818182, 0.90909091])"
            ]
          },
          "execution_count": 22,
          "metadata": {},
          "output_type": "execute_result"
        }
      ],
      "source": [
        "#Code here\n",
        "\n",
        "np.linspace(0,1,12)[1:-1]"
      ]
    },
    {
      "cell_type": "markdown",
      "metadata": {
        "id": "vb4jK4yQ6Zs2"
      },
      "source": [
        "###`Q-5` Can you create a identity mattrix of shape (3,4). If yes write code for it."
      ]
    },
    {
      "cell_type": "code",
      "execution_count": null,
      "metadata": {
        "id": "DTV_AbMS6Zs4"
      },
      "outputs": [
        {
          "name": "stdout",
          "output_type": "stream",
          "text": [
            "[[1. 0. 0.]\n",
            " [0. 1. 0.]\n",
            " [0. 0. 1.]]\n",
            "[[1. 0. 0. 0.]\n",
            " [0. 1. 0. 0.]\n",
            " [0. 0. 1. 0.]\n",
            " [0. 0. 0. 1.]]\n"
          ]
        }
      ],
      "source": [
        "#Code here\n",
        "\n",
        "# NO we can not. Identity Matrix have to be a square.\n",
        "\n",
        "print(np.eye(3))\n",
        "\n",
        "print(np.identity(4))"
      ]
    },
    {
      "cell_type": "markdown",
      "metadata": {
        "id": "QtjAFm5PEntK"
      },
      "source": [
        "###`Q-6:` Create a 5x5 matrix with row values ranging from 0 to 4."
      ]
    },
    {
      "cell_type": "code",
      "execution_count": 30,
      "metadata": {
        "id": "z2WGxRjvEuRS"
      },
      "outputs": [
        {
          "name": "stdout",
          "output_type": "stream",
          "text": [
            "[[0. 1. 2. 3. 4.]\n",
            " [0. 1. 2. 3. 4.]\n",
            " [0. 1. 2. 3. 4.]\n",
            " [0. 1. 2. 3. 4.]\n",
            " [0. 1. 2. 3. 4.]]\n"
          ]
        }
      ],
      "source": [
        "#Code here\n",
        "\n",
        "a = np.zeros((5,5))\n",
        "a += np.arange(5)\n",
        "print(a)"
      ]
    },
    {
      "cell_type": "markdown",
      "metadata": {
        "id": "KPpvxKjVHnyx"
      },
      "source": [
        "###`Q-7:`  Consider a random integer (in range 1 to 100) vector with shape `(10,2)` representing coordinates, and coordinates of a point as array is given. Create an array of distance of each point in the random vectros from the given point. Distance array should be interger type.\n",
        "\n",
        "```\n",
        "point = np.array([2,3])\n",
        "```\n"
      ]
    },
    {
      "cell_type": "code",
      "execution_count": 35,
      "metadata": {
        "id": "X7KGnWLNIM6f"
      },
      "outputs": [
        {
          "name": "stdout",
          "output_type": "stream",
          "text": [
            "[[ 5 72]\n",
            " [83 70]\n",
            " [11 96]\n",
            " [71 20]\n",
            " [87 66]\n",
            " [85 17]\n",
            " [71 76]\n",
            " [94 71]\n",
            " [41  2]\n",
            " [17 81]]\n"
          ]
        },
        {
          "data": {
            "text/plain": [
              "array([ 69, 105,  93,  71, 105,  84, 100, 114,  39,  79])"
            ]
          },
          "execution_count": 35,
          "metadata": {},
          "output_type": "execute_result"
        }
      ],
      "source": [
        "#Code here\n",
        "\n",
        "a =  np.random.randint(1, 100, (10, 2))\n",
        "p = np.array([2,3])\n",
        "\n",
        "print (a)\n",
        "\n",
        "np.sqrt(np.sum((a-p)**2 , axis = 1)).astype(int)"
      ]
    },
    {
      "cell_type": "markdown",
      "metadata": {
        "id": "tajOFJlCDwTr"
      },
      "source": [
        "###`Q-8:` Consider a (6,7,8) shape array, what is the index (x,y,z) of the 100th element?"
      ]
    },
    {
      "cell_type": "code",
      "execution_count": 48,
      "metadata": {
        "id": "qH4oxvs0D3Ra"
      },
      "outputs": [
        {
          "name": "stdout",
          "output_type": "stream",
          "text": [
            "(np.int64(1), np.int64(5), np.int64(4))\n"
          ]
        }
      ],
      "source": [
        "#Code here\n",
        "\n",
        "a = np.unravel_index(100, (6,7,8))\n",
        "\n",
        "print(a)"
      ]
    },
    {
      "cell_type": "markdown",
      "metadata": {
        "id": "9LxBAbT2Pw33"
      },
      "source": [
        "### `Q-9:` Arrays\n",
        "\n",
        "You are given a space separated list of numbers. Your task is to print a reversed NumPy array with the element type float.\n",
        "\n"
      ]
    },
    {
      "cell_type": "markdown",
      "metadata": {
        "id": "JJpqVms2Nq7L"
      },
      "source": [
        "**Input Format:**\n",
        "\n",
        "A single line of input containing space separated numbers.\n",
        "\n",
        "**Output Format:**\n",
        "\n",
        "Print the reverse NumPy array with type float.\n",
        "\n",
        "**Example 1:**\n",
        "\n",
        "Input:\n",
        "\n",
        "```bash\n",
        "1 2 3 4 -8 -10\n",
        "```\n",
        "\n",
        "Output:\n",
        "\n",
        "```bash\n",
        "[-10.  -8.   4.   3.   2.   1.]\n",
        "```"
      ]
    },
    {
      "cell_type": "code",
      "execution_count": 50,
      "metadata": {
        "id": "7iQyg6ChNl3j"
      },
      "outputs": [
        {
          "data": {
            "text/plain": [
              "array([7., 6., 5., 4., 3., 2., 1.], dtype=float32)"
            ]
          },
          "execution_count": 50,
          "metadata": {},
          "output_type": "execute_result"
        }
      ],
      "source": [
        "#Code here\n",
        "\n",
        "\n",
        "a = input().strip().split()\n",
        "np.array(a[::-1], dtype= np.float32)"
      ]
    },
    {
      "cell_type": "markdown",
      "metadata": {
        "id": "TPxD7jM8Sjz9"
      },
      "source": [
        "### `Q-10:` Elements count\n",
        "\n",
        "Count the number of elements of a numpy array.\n",
        "\n"
      ]
    },
    {
      "cell_type": "markdown",
      "metadata": {
        "id": "oHTiTz_jNkAU"
      },
      "source": [
        "**Example 1:**\n",
        "\n",
        "Input:\n",
        "```bash\n",
        "np.array([])\n",
        "```\n",
        "\n",
        "Output:\n",
        "```bash\n",
        "elements_count :  0\n",
        "```\n",
        "\n",
        "**Example 2:**\n",
        "\n",
        "Input:\n",
        "```bash\n",
        "np.array([1, 2])\n",
        "```\n",
        "\n",
        "Output:\n",
        "```bash\n",
        "elements_count :  2\n",
        "```"
      ]
    },
    {
      "cell_type": "code",
      "execution_count": 56,
      "metadata": {
        "id": "RG0H2I-TNeGN"
      },
      "outputs": [
        {
          "data": {
            "text/plain": [
              "0"
            ]
          },
          "execution_count": 56,
          "metadata": {},
          "output_type": "execute_result"
        }
      ],
      "source": [
        "#Code here\n",
        "\n",
        "a = np.array([])\n",
        "\n",
        "a.size"
      ]
    },
    {
      "cell_type": "markdown",
      "metadata": {
        "id": "pwgPz-3l5ic5"
      },
      "source": [
        "### `Q-11:` Softmax function\n",
        "\n",
        "Create a Python function to calculate the Softmax of the given numpy 1D array. The function only accepts the numpy 1D array, otherwise raise error.\n",
        "\n",
        "$$\\Large \\sigma(\\vec z)_i = \\frac{e^{z_i}}{\\sum_{j=i}^{K}{e^{z_j}}}$$\n",
        "\n",
        "https://en.wikipedia.org/wiki/Softmax_function\n",
        "\n"
      ]
    },
    {
      "cell_type": "markdown",
      "metadata": {
        "id": "eZ3WJt6UM1ul"
      },
      "source": [
        "**Example 1:**\n",
        "\n",
        "Input:\n",
        "```bash\n",
        "[86.03331084 37.7285648  48.64908087 87.16563062 38.40852563 37.20006318]\n",
        "```\n",
        "\n",
        "Output:\n",
        "```bash\n",
        "[2.43733249e-01, 2.56112115e-22, 1.41628284e-17, 7.56266751e-01,\n",
        "       5.05514197e-22, 1.50974911e-22]\n",
        "```\n",
        "\n",
        "**Example 2:**\n",
        "\n",
        "Input:\n",
        "```bash\n",
        "[33.17344305 45.61961654 82.05405781 80.9647098  68.82830233 91.52064278]\n",
        "```\n",
        "\n",
        "Output:\n",
        "```bash\n",
        "[4.57181035e-26, 1.16249923e-20, 7.73872596e-05, 2.60358426e-05,\n",
        "       1.39571531e-10, 9.99896577e-01]\n",
        "```"
      ]
    },
    {
      "cell_type": "code",
      "execution_count": null,
      "metadata": {
        "id": "VNzj05lkNaNi"
      },
      "outputs": [
        {
          "name": "stdout",
          "output_type": "stream",
          "text": [
            "[4.57181033e-26 1.16249922e-20 7.73872594e-05 2.60358426e-05\n",
            " 1.39571531e-10 9.99896577e-01]\n"
          ]
        }
      ],
      "source": [
        "#Code here\n",
        "\n",
        "def SoftMax(arr):\n",
        "    if type(arr) != np.ndarray:\n",
        "        raise TypeError(\"Requires Numpy Array\")\n",
        "    elif arr.ndim > 1:\n",
        "        raise TypeError(\"Requires 1D Array\")\n",
        "    \n",
        "    s = np.sum(np.exp(arr))\n",
        "    return np.exp(arr) / s\n",
        "\n",
        "\n",
        "a = np.array([33.17344305, 45.61961654, 82.05405781, 80.9647098,  68.82830233, 91.52064278])\n",
        "print(SoftMax(a))"
      ]
    },
    {
      "cell_type": "markdown",
      "metadata": {
        "id": "k4JWSwWu_HXg"
      },
      "source": [
        "### `Q-12:` Vertical stack\n",
        "\n",
        "Write a python function that accepts infinite number of numpy arrays and do the vertical stack to them. Then return that new array as result. The function only accepts the numpy array, otherwise raise error.\n",
        "\n"
      ]
    },
    {
      "cell_type": "markdown",
      "metadata": {
        "id": "XhhV3mraNAWr"
      },
      "source": [
        "**Example 1:**\n",
        "\n",
        "Input:\n",
        "```bash\n",
        "a= [[0 1 2 3 4]\n",
        " [5 6 7 8 9]]\n",
        "\n",
        "b= [[1 1 1 1 1]\n",
        " [1 1 1 1 1]]\n",
        "```\n",
        "\n",
        "Output:\n",
        "\n",
        "```bash\n",
        "[[0 1 2 3 4]\n",
        " [5 6 7 8 9]\n",
        " [1 1 1 1 1]\n",
        " [1 1 1 1 1]]\n",
        "```\n",
        "\n",
        "**Example 2:**\n",
        "\n",
        "Input:\n",
        "```bash\n",
        "a= [[0 1 2 3 4]\n",
        " [5 6 7 8 9]]\n",
        "\n",
        "b= [[1 1 1 1 1]\n",
        " [1 1 1 1 1]]\n",
        "\n",
        "c= [[0.10117373 0.1677244  0.73764059 0.83166097 0.48985695]\n",
        " [0.44581567 0.13502419 0.55692335 0.16479622 0.61193593]]\n",
        "```\n",
        "\n",
        "Output:\n",
        "```bash\n",
        "[[0.         1.         2.         3.         4.        ]\n",
        " [5.         6.         7.         8.         9.        ]\n",
        " [1.         1.         1.         1.         1.        ]\n",
        " [1.         1.         1.         1.         1.        ]\n",
        " [0.10117373 0.1677244  0.73764059 0.83166097 0.48985695]\n",
        " [0.44581567 0.13502419 0.55692335 0.16479622 0.61193593]]\n",
        "```"
      ]
    },
    {
      "cell_type": "code",
      "execution_count": 66,
      "metadata": {
        "id": "dhtnbSj6NP8z"
      },
      "outputs": [
        {
          "name": "stdout",
          "output_type": "stream",
          "text": [
            "A [[0 1 2 3 4]\n",
            " [5 6 7 8 9]]\n",
            "B [[1 1 1 1 1]\n",
            " [1 1 1 1 1]]\n",
            "C [[0.96640059 0.13731114 0.34715794 0.27930744 0.14461578]\n",
            " [0.98174952 0.61007674 0.37149238 0.89355699 0.45155342]]\n"
          ]
        },
        {
          "data": {
            "text/plain": [
              "array([[0.        , 1.        , 2.        , 3.        , 4.        ],\n",
              "       [5.        , 6.        , 7.        , 8.        , 9.        ],\n",
              "       [1.        , 1.        , 1.        , 1.        , 1.        ],\n",
              "       [1.        , 1.        , 1.        , 1.        , 1.        ],\n",
              "       [0.96640059, 0.13731114, 0.34715794, 0.27930744, 0.14461578],\n",
              "       [0.98174952, 0.61007674, 0.37149238, 0.89355699, 0.45155342]])"
            ]
          },
          "execution_count": 66,
          "metadata": {},
          "output_type": "execute_result"
        }
      ],
      "source": [
        "#Code here\n",
        "\n",
        "def vertical_stack(*args):\n",
        "    for i in args:\n",
        "        if type(i) != np.ndarray:\n",
        "            raise TypeError(\"Requires Numpy Array\")\n",
        "        \n",
        "    return np.vstack(args)\n",
        "\n",
        "a = np.arange(10).reshape(2,-1)\n",
        "print(\"A\", a)\n",
        "b = np.repeat(1, 10).reshape(2,-1)\n",
        "print(\"B\", b)\n",
        "c = np.random.random((2,5))\n",
        "print(\"C\", c)\n",
        "\n",
        "vertical_stack(a,b,c)"
      ]
    },
    {
      "cell_type": "markdown",
      "metadata": {
        "id": "3mk8T6CuC2DP"
      },
      "source": [
        "### `Q-13:` Dates\n",
        "\n",
        "Create a python function named **date_array** that accepts two dates as string format and returns a numpy array of dates between those 2 dates. The function only accept 2 strings, otherwise raise error. The date format should be like this only: `2022-12-6`. The end date should be included and for simplicity, choose dates from a same year.\n",
        "\n"
      ]
    },
    {
      "cell_type": "markdown",
      "metadata": {
        "id": "E3IgjnTTNFEk"
      },
      "source": [
        "**Example 1:**\n",
        "\n",
        "Input:\n",
        "```bash\n",
        "date_array(start = '2020-09-15', end = '2020-09-25')\n",
        "```\n",
        "\n",
        "Output:\n",
        "```bash\n",
        "['2020-09-15', '2020-09-16', '2020-09-17', '2020-09-18',\n",
        " '2020-09-19', '2020-09-20', '2020-09-21', '2020-09-22',\n",
        " '2020-09-23', '2020-09-24', '2020-09-25']\n",
        "```\n",
        "\n",
        "**Example 2:**\n",
        "\n",
        "Input:\n",
        "```bash\n",
        "date_array(start = '2022-12-01', end = '2022-12-06')\n",
        "```\n",
        "\n",
        "Output:\n",
        "```bash\n",
        "['2022-12-01', '2022-12-02', '2022-12-03', '2022-12-04', '2022-12-05', '2022-12-06']\n",
        "```\n",
        "\n",
        "**Example 3:**\n",
        "\n",
        "Input:\n",
        "```bash\n",
        "date_array(start = '2020-11-25', end = '2020-11-30')\n",
        "```\n",
        "\n",
        "Output:\n",
        "```bash\n",
        "['2020-11-25', '2020-11-26', '2020-11-27', '2020-11-28',\n",
        " '2020-11-29', '2020-11-30']\n",
        "```"
      ]
    },
    {
      "cell_type": "code",
      "execution_count": 88,
      "metadata": {
        "id": "Yj5PBfQQNTnL"
      },
      "outputs": [
        {
          "data": {
            "text/plain": [
              "array(['2020-11-25', '2020-11-26', '2020-11-27', '2020-11-28',\n",
              "       '2020-11-29', '2020-11-30'], dtype='datetime64[D]')"
            ]
          },
          "execution_count": 88,
          "metadata": {},
          "output_type": "execute_result"
        }
      ],
      "source": [
        "#Code here\n",
        "\n",
        "def date_array(start: str, end: str):\n",
        "    if type(start) != str or type(end) !=  str:\n",
        "        raise TypeError\n",
        "    \n",
        "    total_days_of_month = {\n",
        "    \"01\": 31, \"02\": 28, \"03\": 31, \"04\": 30, \"05\": 31, \"06\": 30,\n",
        "    \"07\": 31, \"08\": 31, \"09\": 30, \"10\": 31, \"11\": 30, \"12\": 31\n",
        "    }\n",
        "    \n",
        "    end = end.split(\"-\")\n",
        "    end_last = int(end[-1]) + 1 \n",
        "    \n",
        "    if total_days_of_month[end[-2]] < end_last:\n",
        "        days_diff = end_last - total_days_of_month[end[-2]]\n",
        "        end[-1] = f\"0{days_diff}\" if days_diff < 10 else f\"{days_diff}\"\n",
        "        next_month = int(end[-2]) + 1\n",
        "        end[-2] = f\"0{next_month}\" if next_month < 10 else f\"{next_month}\"\n",
        "        \n",
        "    else:\n",
        "        end[-1] = f\"0{end_last}\" if end_last < 10 else f\"{end_last}\"\n",
        "    \n",
        "    end = \"-\".join(end)\n",
        "    return np.arange(start, end, dtype= \"datetime64[D]\")\n",
        "\n",
        "date_array(start = '2020-11-25', end = '2020-11-30')"
      ]
    },
    {
      "cell_type": "markdown",
      "metadata": {
        "id": "bcEp0wTWQijK"
      },
      "source": [
        "###`Q-14:` Subtract the mean of each row from a matrix."
      ]
    },
    {
      "cell_type": "code",
      "execution_count": 95,
      "metadata": {
        "id": "rpILVGcgQzMo"
      },
      "outputs": [
        {
          "name": "stdout",
          "output_type": "stream",
          "text": [
            "[[0.45006942 0.9735225  0.34776974 0.43476656]\n",
            " [0.22309057 0.1821062  0.60346415 0.39656015]\n",
            " [0.85649564 0.88689249 0.23270045 0.81562251]\n",
            " [0.20065173 0.90553234 0.15356486 0.46129736]\n",
            " [0.84860124 0.46007583 0.21068991 0.70255911]]\n",
            "[[0.55153206]\n",
            " [0.35130527]\n",
            " [0.69792777]\n",
            " [0.43026157]\n",
            " [0.55548152]]\n",
            "[[-0.10146263  0.42199045 -0.20376232 -0.11676549]\n",
            " [-0.1282147  -0.16919906  0.25215888  0.04525488]\n",
            " [ 0.15856787  0.18896472 -0.46522732  0.11769473]\n",
            " [-0.22960984  0.47527077 -0.27669671  0.03103579]\n",
            " [ 0.29311972 -0.0954057  -0.34479161  0.14707759]]\n"
          ]
        }
      ],
      "source": [
        "#code here\n",
        "\n",
        "x = np.random.random((5,4))\n",
        "print(x)\n",
        "\n",
        "print(x.mean(axis = 1, keepdims = True))\n",
        "\n",
        "print(x - x.mean(axis = 1, keepdims = True))"
      ]
    },
    {
      "cell_type": "markdown",
      "metadata": {
        "id": "A-dMVlPPSBTT"
      },
      "source": [
        "###`Q-15:` Swap column-1 of array with column-2 in the array."
      ]
    },
    {
      "cell_type": "code",
      "execution_count": 96,
      "metadata": {
        "id": "3RtngM9-Q6S7"
      },
      "outputs": [
        {
          "data": {
            "text/plain": [
              "array([[0, 2, 1],\n",
              "       [3, 5, 4],\n",
              "       [6, 8, 7]])"
            ]
          },
          "execution_count": 96,
          "metadata": {},
          "output_type": "execute_result"
        }
      ],
      "source": [
        "#Code here\n",
        "\n",
        "a = np.arange(9).reshape(3,3)\n",
        "a[:, [0,2,1]]"
      ]
    },
    {
      "cell_type": "markdown",
      "metadata": {
        "id": "cB4VMexvS6Zi"
      },
      "source": [
        "###`Q-16:` Replace odd elements in arrays with -1."
      ]
    },
    {
      "cell_type": "code",
      "execution_count": 99,
      "metadata": {
        "id": "Bt83nXEVS5O4"
      },
      "outputs": [
        {
          "data": {
            "text/plain": [
              "array([ 0, -1,  2, -1,  4, -1,  6, -1,  8, -1])"
            ]
          },
          "execution_count": 99,
          "metadata": {},
          "output_type": "execute_result"
        }
      ],
      "source": [
        "#Code here\n",
        "\n",
        "a =  np.arange(10)\n",
        "\n",
        "a[a%2 == 1] = -1\n",
        "a"
      ]
    },
    {
      "cell_type": "markdown",
      "metadata": {
        "id": "kf_qvmBxWIT_"
      },
      "source": [
        "###`Q-17:` Given two arrays of same shape make an array of max out of two arrays. (Numpy way)\n",
        "```\n",
        "a=np.array([6,3,1,5,8])\n",
        "b=np.array([3,2,1,7,2])\n",
        "\n",
        "Result-> [6 3 1 7 8]\n",
        "```"
      ]
    },
    {
      "cell_type": "code",
      "execution_count": 103,
      "metadata": {
        "id": "TB9ZvF-EZSfu"
      },
      "outputs": [
        {
          "data": {
            "text/plain": [
              "array([6, 3, 1, 7, 8])"
            ]
          },
          "execution_count": 103,
          "metadata": {},
          "output_type": "execute_result"
        }
      ],
      "source": [
        "#Code here\n",
        "\n",
        "a=np.array([6,3,1,5,8])\n",
        "b=np.array([3,2,1,7,2])\n",
        "\n",
        "a[b>a] = b[a<b]\n",
        "a"
      ]
    },
    {
      "cell_type": "markdown",
      "metadata": {
        "id": "iOQLUIeGc3zA"
      },
      "source": [
        "###`Q-18` Answer below asked questions on given array:\n",
        "1. Fetch Every alternate column of the array\n",
        "2. Normalise the given array\n",
        "\n",
        "https://en.wikipedia.org/wiki/Normalization_(statistics)\n",
        "\n",
        "There are different form of normalisation for this question use below formula.\n",
        "\n",
        "$$\\large X_{normalized} = \\frac{X - X_{min}}{X_{max} - X_{min}}$$\n",
        "\n",
        "```python\n",
        "arr1=np.random.randint(low=1, high=10000, size=40).reshape(8,5)\n",
        "```\n"
      ]
    },
    {
      "cell_type": "code",
      "execution_count": 104,
      "metadata": {
        "colab": {
          "base_uri": "https://localhost:8080/"
        },
        "id": "vjSm18k3d_1p",
        "outputId": "83d23b61-d2ae-41bc-e91e-0e0722667521"
      },
      "outputs": [
        {
          "data": {
            "text/plain": [
              "array([[2633,  113, 7333, 9274, 3066],\n",
              "       [8393, 2317, 5651, 5514, 4120],\n",
              "       [1042, 3835, 4765, 4703, 2974],\n",
              "       [9123, 4471, 1174, 8908, 6508],\n",
              "       [ 906, 7840, 6799, 5174, 5357],\n",
              "       [2100, 7764, 1810, 2622, 9878],\n",
              "       [5501, 2948, 3423, 4509, 4491],\n",
              "       [3369, 6020,  906, 8660, 6979]], dtype=int32)"
            ]
          },
          "execution_count": 104,
          "metadata": {},
          "output_type": "execute_result"
        }
      ],
      "source": [
        "# Given\n",
        "arr1=np.random.randint(low=1, high=10000, size=40).reshape(8,5)\n",
        "arr1"
      ]
    },
    {
      "cell_type": "code",
      "execution_count": 111,
      "metadata": {
        "id": "d7u8DB47eBfQ"
      },
      "outputs": [
        {
          "name": "stdout",
          "output_type": "stream",
          "text": [
            "[[2633 7333 3066]\n",
            " [8393 5651 4120]\n",
            " [1042 4765 2974]\n",
            " [9123 1174 6508]\n",
            " [ 906 6799 5357]\n",
            " [2100 1810 9878]\n",
            " [5501 3423 4491]\n",
            " [3369  906 6979]]\n",
            "[[0.25806452 0.         0.73937532 0.93814644 0.30240655]\n",
            " [0.84792627 0.22570405 0.5671275  0.5530978  0.41034306]\n",
            " [0.09513569 0.38115719 0.47639529 0.47004608 0.29298515]\n",
            " [0.92268305 0.44628776 0.10865335 0.90066564 0.65488991]\n",
            " [0.0812084  0.79129544 0.68469022 0.51827957 0.53701997]\n",
            " [0.20348182 0.78351254 0.17378392 0.25693804 1.        ]\n",
            " [0.55176651 0.29032258 0.33896569 0.45017921 0.44833589]\n",
            " [0.33343574 0.60491551 0.0812084  0.87526882 0.7031234 ]]\n"
          ]
        }
      ],
      "source": [
        "#Code here\n",
        "\n",
        "print(arr1[:,::2])\n",
        "\n",
        "print((arr1 - arr1.min()) / (arr1.max() - arr1.min()))"
      ]
    },
    {
      "cell_type": "markdown",
      "metadata": {
        "id": "jCzsVEKLgGNo"
      },
      "source": [
        "###`Q-19:` Write a function which will accept 2 arguments.\n",
        "First: A 1D numpy array arr\n",
        "\n",
        "Second: An integer n {Please make sure n<=len(arr)}\n",
        "\n",
        "Output: The output should be the nth largest item out of the array\n",
        "```\n",
        "# Example1 : arr=(12,34,40,7,1,0) and n=3, the output should be 12\n",
        "# Example2 : arr=(12,34,40,7,1,0) and n=1, the output should be 40\n",
        "```"
      ]
    },
    {
      "cell_type": "code",
      "execution_count": 115,
      "metadata": {
        "id": "J4AzkDk7gXSG"
      },
      "outputs": [
        {
          "data": {
            "text/plain": [
              "np.int64(12)"
            ]
          },
          "execution_count": 115,
          "metadata": {},
          "output_type": "execute_result"
        }
      ],
      "source": [
        "#Code here\n",
        "\n",
        "def nthmax(arr, n):\n",
        "    if n> len(arr):\n",
        "        raise IndexError(\"N is way out of limit.\")\n",
        "    arr.sort()\n",
        "    return arr[-n]\n",
        "\n",
        "nthmax(np.array([12,34,40,7,1,0]), 3)"
      ]
    },
    {
      "cell_type": "markdown",
      "metadata": {
        "id": "ja0xPCgjhBsg"
      },
      "source": [
        "###`Q-20:` Create the following pattern without hardcoding. Use only numpy functions and the below input array a.\n",
        "```\n",
        "# Input: a = np.array([1,2,3])\n",
        "# Output: array([1, 1, 1, 2, 2, 2, 3, 3, 3, 1, 2, 3, 1, 2, 3, 1, 2, 3])\n",
        "```"
      ]
    },
    {
      "cell_type": "code",
      "execution_count": 119,
      "metadata": {
        "id": "CndS8TTNhG0F"
      },
      "outputs": [
        {
          "data": {
            "text/plain": [
              "array([1, 1, 1, 2, 2, 2, 3, 3, 3, 1, 2, 3, 1, 2, 3, 1, 2, 3])"
            ]
          },
          "execution_count": 119,
          "metadata": {},
          "output_type": "execute_result"
        }
      ],
      "source": [
        "#code here\n",
        "\n",
        "a = np.array([1,2,3])\n",
        "\n",
        "np.repeat(a,3)\n",
        "np.tile(a,3)\n",
        "\n",
        "np.hstack([np.repeat(a,3) , np.tile(a,3)])\n"
      ]
    }
  ],
  "metadata": {
    "colab": {
      "provenance": []
    },
    "kernelspec": {
      "display_name": "Python 3",
      "name": "python3"
    },
    "language_info": {
      "codemirror_mode": {
        "name": "ipython",
        "version": 3
      },
      "file_extension": ".py",
      "mimetype": "text/x-python",
      "name": "python",
      "nbconvert_exporter": "python",
      "pygments_lexer": "ipython3",
      "version": "3.11.9"
    }
  },
  "nbformat": 4,
  "nbformat_minor": 0
}
