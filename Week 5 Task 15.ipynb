{
  "cells": [
    {
      "cell_type": "markdown",
      "metadata": {
        "id": "J88qfqQEk_sT"
      },
      "source": [
        "###`Q-1:` Create a random 3x4 matrix with value between 0-100. And perform below tasks\n",
        "\n",
        "    i. Sort this matrix. np.sort()\n",
        "    ii. Sort this matrix based on values in 2nd column.\n",
        "    iii. Sort this matrix based on max value in each row.\n",
        "    iv. Sort based on elements value.\n"
      ]
    },
    {
      "cell_type": "markdown",
      "metadata": {
        "id": "xpOwOdhqlE9R"
      },
      "source": [
        "See examples:\n",
        "```\n",
        "arr =\n",
        "    [[92 90 74]\n",
        "    [ 6 63 93]\n",
        "    [15 93 96]\n",
        "    [70 60 48]]\n",
        "```\n",
        "```\n",
        "i. np.sort\n",
        "[[74 90 92]\n",
        " [ 6 63 93]\n",
        " [15 93 96]\n",
        " [48 60 70]]\n",
        "\n",
        "ii. based on 2nd column\n",
        "[[70 60 48]\n",
        " [ 6 63 93]\n",
        " [92 90 74]\n",
        " [15 93 96]]\n",
        "\n",
        "iii. based on row max- ascending\n",
        "[[15 93 96]\n",
        " [ 6 63 93]\n",
        " [92 90 74]\n",
        " [70 60 48]]\n",
        "\n",
        "iv. based on elements value\n",
        "[[ 6 15 48]\n",
        " [60 63 70]\n",
        " [74 90 92]\n",
        " [93 93 96]]\n",
        "\n",
        "```"
      ]
    },
    {
      "cell_type": "code",
      "execution_count": 1,
      "metadata": {
        "id": "Auy-guUwlALv"
      },
      "outputs": [],
      "source": [
        "import numpy as np"
      ]
    },
    {
      "cell_type": "code",
      "execution_count": 12,
      "metadata": {},
      "outputs": [
        {
          "name": "stdout",
          "output_type": "stream",
          "text": [
            "Array \n",
            " [[10 94  0]\n",
            " [57 52 13]\n",
            " [27 31  9]\n",
            " [82 98 69]] \n",
            "\n",
            "Solution 1: np.sort \n",
            " [[ 0 10 94]\n",
            " [13 52 57]\n",
            " [ 9 27 31]\n",
            " [69 82 98]] \n",
            "\n",
            "Solution 2: based on 2nd column \n",
            " [[27 31  9]\n",
            " [57 52 13]\n",
            " [10 94  0]\n",
            " [82 98 69]] \n",
            "\n",
            "Solution 3: based on row max- ascending \n",
            " [[27 31  9]\n",
            " [57 52 13]\n",
            " [10 94  0]\n",
            " [82 98 69]] \n",
            "\n",
            "Solution 4: based on element value \n",
            " [[ 0  9 10]\n",
            " [13 27 31]\n",
            " [52 57 69]\n",
            " [82 94 98]] \n",
            "\n"
          ]
        }
      ],
      "source": [
        "# Code Here\n",
        "\n",
        "arr = np.random.randint(0, 100, (4,3))\n",
        "print('Array \\n', arr, '\\n')\n",
        "\n",
        "#1\n",
        "print('Solution 1: np.sort \\n', np.sort(arr), '\\n')\n",
        "\n",
        "#2\n",
        "print('Solution 2: based on 2nd column \\n', arr[arr[:,1].argsort()], '\\n')\n",
        "\n",
        "#3\n",
        "print('Solution 3: based on row max- ascending \\n', np.array(sorted(arr, key =  lambda x: max (x))), '\\n')\n",
        "\n",
        "#4\n",
        "print('Solution 4: based on element value \\n', np.sort(arr, axis= None).reshape(4,3), '\\n')\n"
      ]
    },
    {
      "cell_type": "markdown",
      "metadata": {
        "id": "Jx_I3gx9lBay"
      },
      "source": [
        "###`Q-2:` There is an array of marks of 5 students in 4 subjects. Further you are asked to perform below task.\n",
        "    i. Add marks every student of an extra subject in the same array.\n",
        "    ii. Add two new students marks in respective 5 subjects.(one subject added in above task)\n",
        "    iii. Add extra column with sum of all subjects(5-subjects) marks\n",
        "    iv. Sort the array(non-ascending order) on total marks column--one added in above task. Show top 2 rows.\n",
        "\n",
        "Note: Change dimension of arrays during concatenation or appending if required."
      ]
    },
    {
      "cell_type": "markdown",
      "metadata": {
        "id": "lXF-CE6ylNIw"
      },
      "source": [
        "Given Array-\n",
        "```\n",
        "marks = [[13, 10,  9, 33],\n",
        "       [63, 46, 90, 42],\n",
        "       [39, 76, 13, 29],\n",
        "       [82,  9, 29, 78],\n",
        "       [67, 61, 59, 36]]\n",
        "\n",
        "extra_subject = [41, 87, 72, 36, 92]\n",
        "#Two extra students record-\n",
        "rec1 = [77, 83, 98, 95, 89]\n",
        "rec2 = [92, 71, 52, 61, 53]\n",
        "```"
      ]
    },
    {
      "cell_type": "code",
      "execution_count": 29,
      "metadata": {
        "id": "7YKsWO2olMkq"
      },
      "outputs": [
        {
          "name": "stdout",
          "output_type": "stream",
          "text": [
            "[[13 10  9 33 41]\n",
            " [63 46 90 42 87]\n",
            " [39 76 13 29 72]\n",
            " [82  9 29 78 36]\n",
            " [67 61 59 36 92]] \n",
            "\n",
            "[[13 10  9 33 41]\n",
            " [63 46 90 42 87]\n",
            " [39 76 13 29 72]\n",
            " [82  9 29 78 36]\n",
            " [67 61 59 36 92]\n",
            " [77 83 98 95 89]\n",
            " [92 71 52 61 53]] \n",
            "\n",
            "[[ 13  10   9  33  41 106]\n",
            " [ 63  46  90  42  87 328]\n",
            " [ 39  76  13  29  72 229]\n",
            " [ 82   9  29  78  36 234]\n",
            " [ 67  61  59  36  92 315]\n",
            " [ 77  83  98  95  89 442]\n",
            " [ 92  71  52  61  53 329]] \n",
            "\n",
            "[[ 77  83  98  95  89 442]\n",
            " [ 92  71  52  61  53 329]\n",
            " [ 63  46  90  42  87 328]\n",
            " [ 67  61  59  36  92 315]\n",
            " [ 82   9  29  78  36 234]\n",
            " [ 39  76  13  29  72 229]\n",
            " [ 13  10   9  33  41 106]] \n",
            "\n",
            "[[ 77  83  98  95  89 442]\n",
            " [ 92  71  52  61  53 329]]\n"
          ]
        }
      ],
      "source": [
        "# Code Here\n",
        "\n",
        "marks = np.array([[13, 10,  9, 33],\n",
        "                [63, 46, 90, 42],\n",
        "                [39, 76, 13, 29],\n",
        "                [82,  9, 29, 78],\n",
        "                [67, 61, 59, 36]])\n",
        "\n",
        "extra_subject = np.array([41, 87, 72, 36, 92]).reshape(-1, 1)\n",
        "\n",
        "#1\n",
        "marks = np.concatenate([marks,extra_subject], axis = 1)\n",
        "print(marks, '\\n')\n",
        "\n",
        "#2\n",
        "rec1 = np.array([77, 83, 98, 95, 89]).reshape(1, -1)\n",
        "rec2 = np.array([92, 71, 52, 61, 53]).reshape(1, -1)\n",
        "\n",
        "all_student_marks = np.concatenate([marks, rec1, rec2], axis = 0)\n",
        "print(all_student_marks, '\\n')\n",
        "\n",
        "#3\n",
        "sum_of_student = all_student_marks.sum(axis = 1, keepdims= True)\n",
        "marks = np.concatenate([all_student_marks, sum_of_student], axis = 1)\n",
        "print(marks, '\\n')\n",
        "\n",
        "#4\n",
        "print(np.array(sorted(marks, key = lambda x: x[-1], reverse= True)), '\\n')\n",
        "\n",
        "a = np.array(sorted(marks, key = lambda x: x[-1], reverse= True))\n",
        "print(a[0:2,:])"
      ]
    },
    {
      "cell_type": "markdown",
      "metadata": {
        "id": "VmOyK_8klRqR"
      },
      "source": [
        "###`Q-3:` Find unique arrays from a 2D array column wise and row wise.\n",
        "```\n",
        "arr = np.array([[1,2,3,3,1,1],\n",
        "                [0,9,1,2,8,8],\n",
        "                [1,2,3,8,8,8],\n",
        "                [1,2,3,3,1,1]])\n",
        "```\n",
        "Expected Result-\n",
        "```\n",
        "Row Wise\n",
        "[[0 9 1 2 8 8]\n",
        " [1 2 3 3 1 1]\n",
        " [1 2 3 8 8 8]]\n",
        "\n",
        "Col Wise\n",
        "[[1 1 2 3 3]\n",
        " [0 8 9 1 2]\n",
        " [1 8 2 3 8]\n",
        " [1 1 2 3 3]]\n",
        "```"
      ]
    },
    {
      "cell_type": "code",
      "execution_count": 31,
      "metadata": {
        "id": "LJl10VQrlU5q"
      },
      "outputs": [
        {
          "name": "stdout",
          "output_type": "stream",
          "text": [
            "[[0 9 1 2 8 8]\n",
            " [1 2 3 3 1 1]\n",
            " [1 2 3 8 8 8]] \n",
            "\n",
            "[[1 1 2 3 3]\n",
            " [0 8 9 1 2]\n",
            " [1 8 2 3 8]\n",
            " [1 1 2 3 3]] \n",
            "\n"
          ]
        }
      ],
      "source": [
        "# Code Here\n",
        "\n",
        "arr = np.array([[1,2,3,3,1,1],\n",
        "                [0,9,1,2,8,8],\n",
        "                [1,2,3,8,8,8],\n",
        "                [1,2,3,3,1,1]])\n",
        "\n",
        "#1\n",
        "print(np.unique(arr, axis=0), '\\n')\n",
        "\n",
        "#2\n",
        "print(np.unique(arr, axis=1), '\\n')"
      ]
    },
    {
      "cell_type": "markdown",
      "metadata": {
        "id": "RaXwVkywlWY2"
      },
      "source": [
        "###`Q-4:` Flip given 2-D array along both axes at the same time."
      ]
    },
    {
      "cell_type": "code",
      "execution_count": 33,
      "metadata": {
        "id": "mN7-4G8Kleeq"
      },
      "outputs": [
        {
          "name": "stdout",
          "output_type": "stream",
          "text": [
            "[[36 59 61 67]\n",
            " [78 29  9 82]\n",
            " [29 13 76 39]\n",
            " [42 90 46 63]\n",
            " [33  9 10 13]] \n",
            "\n"
          ]
        }
      ],
      "source": [
        "# Code Here\n",
        "\n",
        "arr = np.array([[13, 10,  9, 33],\n",
        "                [63, 46, 90, 42],\n",
        "                [39, 76, 13, 29],\n",
        "                [82,  9, 29, 78],\n",
        "                [67, 61, 59, 36]])\n",
        "\n",
        "\n",
        "print(np.flip(arr, axis = [0,1]), '\\n')"
      ]
    },
    {
      "cell_type": "markdown",
      "metadata": {
        "id": "X0S7BUNTlfoq"
      },
      "source": [
        "### `Q-5:` Get row numbers of NumPy array having element larger than X.\n",
        "```\n",
        "arr = [[1,2,3,4,5],\n",
        "      [10,-3,30,4,5],\n",
        "      [3,2,5,-4,5],\n",
        "      [9,7,3,6,5]]\n",
        "\n",
        "X = 6\n",
        "```"
      ]
    },
    {
      "cell_type": "code",
      "execution_count": 37,
      "metadata": {
        "id": "bi8jRmWhlkBU"
      },
      "outputs": [
        {
          "name": "stdout",
          "output_type": "stream",
          "text": [
            "(array([1, 3]),)\n"
          ]
        }
      ],
      "source": [
        "# Code Here\n",
        "\n",
        "arr = np.array([[1,2,3,4,5],\n",
        "                [10,-3,30,4,5],\n",
        "                [3,2,5,-4,5],\n",
        "                [9,7,3,6,5]])\n",
        "\n",
        "x = 6\n",
        "\n",
        "\n",
        "print(np.where(np.any(arr > x, axis=1)))"
      ]
    },
    {
      "cell_type": "markdown",
      "metadata": {
        "id": "DSCQMo4mlnDG"
      },
      "source": [
        "### `Q-6:` How to convert an array of arrays into a flat 1d array?\n"
      ]
    },
    {
      "cell_type": "code",
      "execution_count": null,
      "metadata": {
        "id": "QZhSkUT2lsJW"
      },
      "outputs": [],
      "source": [
        "# These arrays are given.\n",
        "\n",
        "arr1 = np.arange(3)\n",
        "arr2 = np.arange(3,7)\n",
        "arr3 = np.arange(7,10)"
      ]
    },
    {
      "cell_type": "code",
      "execution_count": 40,
      "metadata": {
        "id": "f42OXNrFls0I"
      },
      "outputs": [
        {
          "name": "stdout",
          "output_type": "stream",
          "text": [
            "[0 1 2 3 4 5 6 7 8 9]\n"
          ]
        }
      ],
      "source": [
        "# Code Here\n",
        "\n",
        "print(np.concatenate([arr1, arr2, arr3]))"
      ]
    },
    {
      "cell_type": "markdown",
      "metadata": {
        "id": "A1J4oOVCluqO"
      },
      "source": [
        "### `Q-7:` You are given a array. You have to find the minimum and maximum array element and remove that from the array.\n",
        "\n",
        "```python\n",
        "import numpy as np\n",
        "\n",
        "np.random.seed(400)\n",
        "arr = np.random.randint(100, 1000, 200).reshape((1, 200))\n",
        "```"
      ]
    },
    {
      "cell_type": "code",
      "execution_count": 45,
      "metadata": {
        "id": "c6kmgtUJlybZ"
      },
      "outputs": [
        {
          "name": "stdout",
          "output_type": "stream",
          "text": [
            "[[448 563 418 240 507 362 345 236 719 291 298 639 458 387 262 613 267 882\n",
            "  181 425 790 635 889 818 872 967 277 470 336 920 917 295 557 830 506 385\n",
            "  353 975 592 997 137 340 222 215 472 459 617 649 935 956 914 932 645 952\n",
            "  921 490 527 972 278 307 840 958 246 449 251 957 103 627 920 824 356 825\n",
            "  173 323 372 960 710 464 244 782 763 635 436 774 171 469 178 458 624 211\n",
            "  771 270 308 231 952 514 699 702 433 900 373 318 998 265 503 320 230 324\n",
            "  922 967 620 743 527 117 566 804 123 946 587 227 853 757 944 328 855 930\n",
            "  325 729 426 514 296 879 575 936 705 209 191 743 510 513 628 559 658 528\n",
            "  395 525 922 136 496 225 895 975 263 908 420 711 800 976 786 235 930 859\n",
            "  618 226 695 460 218 483 490 803 621 453 193 607 677 637 728 724 534 748\n",
            "  291 194 761 875 687 569 228 482 781 554 654 739 885 197 266 228 892 207\n",
            "  883 588]] \n",
            "\n",
            "998 103\n",
            "997 117\n"
          ]
        }
      ],
      "source": [
        "# Code Here\n",
        "\n",
        "np.random.seed(400)\n",
        "arr = np.random.randint(100, 1000, 200).reshape((1, 200))\n",
        "print(arr, '\\n')\n",
        "\n",
        "max_element = arr.argmax()\n",
        "min_element = arr.argmin()\n",
        "\n",
        "print(arr.max(), arr.min())\n",
        "\n",
        "arr = np.delete(arr, max_element , axis=1)\n",
        "arr = np.delete(arr, min_element , axis=1)\n",
        "\n",
        "print(arr.max(), arr.min())\n"
      ]
    },
    {
      "cell_type": "markdown",
      "metadata": {
        "id": "0dHN1sdnl0Jy"
      },
      "source": [
        "### `Q-8:` You are given an arrays. You have to limit this array's elements between 100 to 200. $arr ∈ [100, 200]$. So replace those values accordingly with the minimum and maximum value. Then sort the array and perform the cumulative sum of that array."
      ]
    },
    {
      "cell_type": "code",
      "execution_count": 49,
      "metadata": {
        "id": "a3YF_E-Hlza7"
      },
      "outputs": [
        {
          "data": {
            "text/plain": [
              "array([  100,   200,   300,   400,   500,   600,   700,   800,   900,\n",
              "        1000,  1100,  1200,  1300,  1400,  1500,  1600,  1700,  1800,\n",
              "        1900,  2000,  2100,  2200,  2300,  2400,  2500,  2600,  2700,\n",
              "        2800,  2906,  3012,  3122,  3243,  3369,  3501,  3633,  3767,\n",
              "        3910,  4062,  4215,  4373,  4541,  4710,  4884,  5062,  5240,\n",
              "        5427,  5614,  5813,  6013,  6213,  6413,  6613,  6813,  7013,\n",
              "        7213,  7413,  7613,  7813,  8013,  8213,  8413,  8613,  8813,\n",
              "        9013,  9213,  9413,  9613,  9813, 10013, 10213, 10413, 10613,\n",
              "       10813, 11013, 11213, 11413, 11613, 11813, 12013, 12213, 12413,\n",
              "       12613, 12813, 13013, 13213, 13413, 13613, 13813, 14013, 14213,\n",
              "       14413, 14613, 14813, 15013, 15213, 15413, 15613, 15813, 16013,\n",
              "       16213, 16413, 16613, 16813, 17013, 17213, 17413, 17613, 17813,\n",
              "       18013, 18213, 18413, 18613, 18813, 19013, 19213, 19413, 19613,\n",
              "       19813, 20013, 20213, 20413, 20613, 20813, 21013, 21213, 21413,\n",
              "       21613, 21813, 22013, 22213, 22413, 22613, 22813, 23013, 23213,\n",
              "       23413, 23613, 23813, 24013, 24213, 24413, 24613, 24813, 25013,\n",
              "       25213, 25413, 25613, 25813, 26013, 26213, 26413, 26613, 26813,\n",
              "       27013, 27213, 27413, 27613, 27813, 28013, 28213, 28413, 28613,\n",
              "       28813, 29013, 29213, 29413, 29613, 29813, 30013, 30213, 30413,\n",
              "       30613, 30813, 31013, 31213, 31413, 31613, 31813, 32013, 32213,\n",
              "       32413, 32613, 32813, 33013, 33213, 33413, 33613, 33813, 34013,\n",
              "       34213, 34413, 34613, 34813, 35013, 35213, 35413, 35613, 35813,\n",
              "       36013, 36213, 36413, 36613, 36813, 37013, 37213, 37413, 37613,\n",
              "       37813, 38013, 38213, 38413, 38613, 38813, 39013, 39213, 39413,\n",
              "       39613, 39813, 40013, 40213, 40413, 40613, 40813, 41013, 41213,\n",
              "       41413, 41613, 41813, 42013, 42213, 42413, 42613, 42813, 43013,\n",
              "       43213, 43413, 43613, 43813, 44013, 44213, 44413, 44613, 44813,\n",
              "       45013, 45213, 45413, 45613, 45813, 46013, 46213, 46413, 46613,\n",
              "       46813, 47013, 47213, 47413, 47613, 47813, 48013, 48213, 48413,\n",
              "       48613, 48813, 49013, 49213, 49413, 49613, 49813, 50013, 50213,\n",
              "       50413, 50613, 50813, 51013, 51213, 51413, 51613, 51813, 52013,\n",
              "       52213, 52413, 52613, 52813, 53013, 53213, 53413, 53613, 53813,\n",
              "       54013, 54213, 54413, 54613, 54813, 55013, 55213, 55413, 55613,\n",
              "       55813, 56013, 56213, 56413, 56613, 56813, 57013, 57213, 57413,\n",
              "       57613, 57813, 58013, 58213, 58413, 58613, 58813, 59013, 59213,\n",
              "       59413, 59613, 59813, 60013, 60213, 60413, 60613, 60813, 61013,\n",
              "       61213, 61413, 61613, 61813, 62013, 62213, 62413, 62613, 62813,\n",
              "       63013, 63213, 63413, 63613, 63813, 64013, 64213, 64413, 64613,\n",
              "       64813, 65013, 65213, 65413, 65613, 65813, 66013, 66213, 66413,\n",
              "       66613, 66813, 67013, 67213, 67413, 67613, 67813, 68013, 68213,\n",
              "       68413, 68613, 68813, 69013, 69213, 69413, 69613, 69813, 70013,\n",
              "       70213, 70413, 70613, 70813, 71013, 71213, 71413, 71613, 71813,\n",
              "       72013, 72213, 72413, 72613, 72813, 73013, 73213, 73413, 73613,\n",
              "       73813, 74013, 74213, 74413, 74613, 74813, 75013, 75213, 75413,\n",
              "       75613, 75813, 76013, 76213, 76413, 76613, 76813, 77013, 77213,\n",
              "       77413, 77613, 77813, 78013, 78213, 78413, 78613, 78813, 79013,\n",
              "       79213, 79413, 79613, 79813, 80013, 80213, 80413, 80613, 80813,\n",
              "       81013, 81213, 81413, 81613, 81813, 82013, 82213, 82413, 82613,\n",
              "       82813, 83013, 83213, 83413, 83613, 83813, 84013, 84213, 84413,\n",
              "       84613, 84813, 85013, 85213, 85413, 85613, 85813, 86013, 86213,\n",
              "       86413, 86613, 86813, 87013, 87213, 87413, 87613, 87813, 88013,\n",
              "       88213, 88413, 88613, 88813, 89013, 89213, 89413, 89613, 89813,\n",
              "       90013, 90213, 90413, 90613, 90813, 91013, 91213, 91413, 91613,\n",
              "       91813, 92013, 92213, 92413, 92613, 92813, 93013, 93213, 93413,\n",
              "       93613, 93813, 94013, 94213, 94413, 94613, 94813, 95013, 95213,\n",
              "       95413, 95613, 95813, 96013, 96213])"
            ]
          },
          "execution_count": 49,
          "metadata": {},
          "output_type": "execute_result"
        }
      ],
      "source": [
        "# Code Here\n",
        "\n",
        "arr = np.random.randint(0, 2000, 500)\n",
        "\n",
        "np.cumsum(np.sort(np.clip(arr,100,200)))"
      ]
    },
    {
      "cell_type": "markdown",
      "metadata": {
        "id": "cXj90Susl4-I"
      },
      "source": [
        "### `Q-9:` You are given a array ($arr ∈ [0, 1]$). First you have round off the elements upto 3 decimal places and compare that\n",
        "- 0th percentile == minimum value of the array\n",
        "- 100th percentile == maximum value of the array\n",
        "- also find the difference betwen 51th percenile and 50th percentile values"
      ]
    },
    {
      "cell_type": "code",
      "execution_count": null,
      "metadata": {
        "id": "SgBEHodgl7Lo"
      },
      "outputs": [
        {
          "name": "stdout",
          "output_type": "stream",
          "text": [
            "0th percentile == minimum value of the array:  True\n",
            "100th percentile == maximum value of the array:  True\n",
            "difference between 51th percentile and 50th percentile values:  0.012860000000000094\n"
          ]
        }
      ],
      "source": [
        "# Code Here\n",
        "\n",
        "arr = np.random.random(100)\n",
        "arr = np.around(arr, decimals=3)\n",
        "\n",
        "print('0th percentile == minimum value of the array: ', (np.percentile(arr, 0) == arr.min()))\n",
        "print('100th percentile == maximum value of the array: ', (np.percentile(arr, 100) == arr.max()))\n",
        "print('Difference between 51th percentile and 50th percentile values: ', (np.percentile(arr, 51) - np.percentile(arr, 50)))"
      ]
    }
  ],
  "metadata": {
    "colab": {
      "provenance": []
    },
    "kernelspec": {
      "display_name": "Python 3",
      "name": "python3"
    },
    "language_info": {
      "codemirror_mode": {
        "name": "ipython",
        "version": 3
      },
      "file_extension": ".py",
      "mimetype": "text/x-python",
      "name": "python",
      "nbconvert_exporter": "python",
      "pygments_lexer": "ipython3",
      "version": "3.11.9"
    }
  },
  "nbformat": 4,
  "nbformat_minor": 0
}
